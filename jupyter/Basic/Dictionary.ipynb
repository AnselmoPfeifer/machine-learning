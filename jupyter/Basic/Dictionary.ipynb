{
 "cells": [
  {
   "cell_type": "code",
   "execution_count": 85,
   "metadata": {},
   "outputs": [
    {
     "name": "stdout",
     "output_type": "stream",
     "text": [
      "{'test': False, 'nome': 'Meu Nome', 'sobrenome': 'Meu Sobre Nome'}\n",
      "Meu Sobre Nome\n"
     ]
    }
   ],
   "source": [
    "dic = {}\n",
    "dic['test'] = False\n",
    "dic['nome'] = 'Meu Nome'\n",
    "dic['sobrenome'] = 'Meu Sobre Nome'\n",
    "\n",
    "dic2 = {}\n",
    "dic2['list'] = [dic]\n",
    "\n",
    "print(dic)\n",
    "\n",
    "if dic['test']:\n",
    "    print(dic['nome'])\n",
    "else:\n",
    "    print(dic['sobrenome'])\n",
    "\n",
    "if dic2['list']:\n",
    "    for i in dic2['list']:\n",
    "        print(i)"
   ]
  }
 ],
 "metadata": {
  "kernelspec": {
   "display_name": "Python 3",
   "language": "python",
   "name": "python3"
  },
  "language_info": {
   "codemirror_mode": {
    "name": "ipython",
    "version": 3
   },
   "file_extension": ".py",
   "mimetype": "text/x-python",
   "name": "python",
   "nbconvert_exporter": "python",
   "pygments_lexer": "ipython3",
   "version": "3.6.3"
  }
 },
 "nbformat": 4,
 "nbformat_minor": 2
}
